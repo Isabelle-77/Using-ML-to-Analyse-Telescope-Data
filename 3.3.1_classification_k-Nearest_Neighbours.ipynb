{
 "cells": [
  {
   "cell_type": "code",
   "execution_count": 14,
   "id": "94074bdc",
   "metadata": {},
   "outputs": [],
   "source": [
    "import numpy as np\n",
    "import pandas as pd\n",
    "import matplotlib.pyplot as plt\n",
    "\n",
    "from sklearn.neighbors import KNeighborsClassifier\n",
    "from sklearn.model_selection import train_test_split\n",
    "from sklearn import preprocessing\n",
    "from sklearn.model_selection import GridSearchCV\n",
    "from sklearn import metrics\n",
    "from sklearn.metrics import classification_report\n",
    "from sklearn.metrics import accuracy_score"
   ]
  },
  {
   "cell_type": "code",
   "execution_count": 15,
   "id": "f9278795",
   "metadata": {},
   "outputs": [
    {
     "name": "stdout",
     "output_type": "stream",
     "text": [
      "                  u             g             r             i             z  \\\n",
      "count  99999.000000  99999.000000  99999.000000  99999.000000  99999.000000   \n",
      "mean      22.080679     20.631583     19.645777     19.084865     18.768988   \n",
      "std        2.251068      2.037384      1.854763      1.757900      1.765982   \n",
      "min       10.996230     10.498200      9.822070      9.469903      9.612333   \n",
      "25%       20.352410     18.965240     18.135795     17.732280     17.460830   \n",
      "50%       22.179140     21.099930     20.125310     19.405150     19.004600   \n",
      "75%       23.687480     22.123775     21.044790     20.396510     19.921120   \n",
      "max       32.781390     31.602240     29.571860     32.141470     29.383740   \n",
      "\n",
      "           redshift  \n",
      "count  99999.000000  \n",
      "mean       0.576667  \n",
      "std        0.730709  \n",
      "min       -0.009971  \n",
      "25%        0.054522  \n",
      "50%        0.424176  \n",
      "75%        0.704172  \n",
      "max        7.011245  \n",
      "          u         g         r         i         z   class  redshift\n",
      "0  23.87882  22.27530  20.39501  19.16573  18.79371  GALAXY  0.634794\n",
      "1  24.77759  22.83188  22.58444  21.16812  21.61427  GALAXY  0.779136\n",
      "2  25.26307  22.66389  20.60976  19.34857  18.94827  GALAXY  0.644195\n",
      "3  22.13682  23.77656  21.61162  20.50454  19.25010  GALAXY  0.932346\n",
      "4  19.43718  17.58028  16.49747  15.97711  15.54461  GALAXY  0.116123\n",
      "5  23.48827  23.33776  21.32195  20.25615  19.54544     QSO  1.424659\n",
      "6  21.46973  21.17624  20.92829  20.60826  20.42573     QSO  0.586455\n",
      "7  22.24979  22.02172  20.34126  19.48794  18.84999  GALAXY  0.477009\n",
      "8  24.40286  22.35669  20.61032  19.46490  18.95852  GALAXY  0.660012\n",
      "9  21.74669  20.03493  19.17553  18.81823  18.65422    STAR -0.000008\n"
     ]
    }
   ],
   "source": [
    "df=pd.read_csv('star_classification.csv')\n",
    "#feature selection\n",
    "df = df.drop(['obj_ID','alpha','delta','run_ID','rerun_ID','cam_col','field_ID','spec_obj_ID','plate','MJD','fiber_ID'], axis='columns')\n",
    "\n",
    "#cleaning the data\n",
    "df = df[(df['u'] >= 0)]\n",
    "#df = df[(df['g'] >= 0)]\n",
    "#df = df[(df['z'] >= 0)]\n",
    "\n",
    "print(df.describe())\n",
    "print(df.head(10))"
   ]
  },
  {
   "cell_type": "code",
   "execution_count": 16,
   "id": "b692d010",
   "metadata": {},
   "outputs": [],
   "source": [
    "#turning the Class values into categorical data\n",
    "df=df.rename(columns = {'class':'Class'})\n",
    "df.Class = df.Class.astype('category')\n",
    "cat_columns = df.select_dtypes(['category']).columns\n",
    "cat_columns\n",
    "df[cat_columns] = df[cat_columns].apply(lambda x: x.cat.codes)"
   ]
  },
  {
   "cell_type": "code",
   "execution_count": 17,
   "id": "e597828e",
   "metadata": {},
   "outputs": [
    {
     "name": "stdout",
     "output_type": "stream",
     "text": [
      "0.9471\n",
      "[[11393   343   177]\n",
      " [  132  3448     8]\n",
      " [  379    19  4101]]\n",
      "              precision    recall  f1-score   support\n",
      "\n",
      "           0       0.96      0.96      0.96     11913\n",
      "           1       0.90      0.96      0.93      3588\n",
      "           2       0.96      0.91      0.93      4499\n",
      "\n",
      "    accuracy                           0.95     20000\n",
      "   macro avg       0.94      0.94      0.94     20000\n",
      "weighted avg       0.95      0.95      0.95     20000\n",
      "\n"
     ]
    }
   ],
   "source": [
    "# raw data kNN\n",
    "\n",
    "## train test split\n",
    "X = df.drop('Class',axis='columns')\n",
    "y = np.array(df['Class'])\n",
    "\n",
    "X_train, X_test, y_train, y_test = train_test_split(X,y,test_size=0.2, random_state = 42)\n",
    "\n",
    "#array dimensions\n",
    "y_train = y_train.transpose()\n",
    "y_test = y_test.transpose()\n",
    "\n",
    "#running knn on raw data\n",
    "knn_model = KNeighborsClassifier(n_neighbors=11)\n",
    "knn_model.fit(X_train, y_train)\n",
    "\n",
    "y_pred = knn_model.predict_proba(X_test)\n",
    "y_pred = np.argmax(y_pred,axis=1)\n",
    "\n",
    "print(accuracy_score(y_test, y_pred))\n",
    "print(metrics.confusion_matrix(y_pred, y_test))\n",
    "print(classification_report(y_pred, y_test))"
   ]
  },
  {
   "cell_type": "code",
   "execution_count": 18,
   "id": "825dead2",
   "metadata": {},
   "outputs": [
    {
     "name": "stdout",
     "output_type": "stream",
     "text": [
      "          u         g         r         i         z  redshift  Class\n",
      "0  0.591347  0.558050  0.535344  0.427665  0.464377  0.091831      0\n",
      "1  0.632603  0.584423  0.646203  0.515986  0.607035  0.112389      0\n",
      "2  0.654888  0.576463  0.546218  0.435729  0.472194  0.093170      0\n",
      "3  0.511384  0.629186  0.596946  0.486717  0.487460  0.134210      0\n",
      "4  0.387463  0.335579  0.337999  0.287021  0.300043  0.017959      0\n",
      "5  0.573420  0.608393  0.582279  0.475761  0.502398  0.204328      1\n",
      "6  0.480763  0.505971  0.562346  0.491292  0.546921  0.084946      1\n",
      "7  0.516570  0.546034  0.532623  0.441877  0.467223  0.069358      0\n",
      "8  0.615402  0.561906  0.546246  0.440860  0.472712  0.095423      0\n",
      "9  0.493476  0.451891  0.473598  0.412337  0.457321  0.001419      2\n",
      "                  u             g             r             i             z  \\\n",
      "count  99999.000000  99999.000000  99999.000000  99999.000000  99999.000000   \n",
      "mean       0.508807      0.480163      0.497408      0.424098      0.463126   \n",
      "std        0.103330      0.096540      0.093913      0.077538      0.089320   \n",
      "min        0.000000      0.000000      0.000000      0.000000      0.000000   \n",
      "25%        0.429475      0.401205      0.420953      0.364438      0.396962   \n",
      "50%        0.513327      0.502355      0.521689      0.438225      0.475043   \n",
      "75%        0.582564      0.550870      0.568245      0.481952      0.521399   \n",
      "max        1.000000      1.000000      1.000000      1.000000      1.000000   \n",
      "\n",
      "           redshift         Class  \n",
      "count  99999.000000  99999.000000  \n",
      "mean       0.083552      0.621476  \n",
      "std        0.104072      0.816771  \n",
      "min        0.000000      0.000000  \n",
      "25%        0.009185      0.000000  \n",
      "50%        0.061833      0.000000  \n",
      "75%        0.101712      1.000000  \n",
      "max        1.000000      2.000000  \n"
     ]
    }
   ],
   "source": [
    "#normalizing\n",
    "\n",
    "X = df.drop('Class', axis=1)\n",
    "y = df['Class']\n",
    "\n",
    "#normalize features\n",
    "scaler = preprocessing.MinMaxScaler()  #default range [0, 1]\n",
    "X_normalized = scaler.fit_transform(X)\n",
    "\n",
    "#put everything together in a pandas dataframe, list\n",
    "X_normalized = pd.DataFrame(X_normalized, columns=X.columns)\n",
    "df_normalized = pd.concat([X_normalized, y.reset_index(drop=True)], axis=1)\n",
    "\n",
    "print(df_normalized.head(10))\n",
    "print(df_normalized.describe())"
   ]
  },
  {
   "cell_type": "code",
   "execution_count": 19,
   "id": "90211532",
   "metadata": {
    "scrolled": true
   },
   "outputs": [
    {
     "name": "stdout",
     "output_type": "stream",
     "text": [
      "0.9607\n",
      "[[11489   301    58]\n",
      " [  132  3497     0]\n",
      " [  283    12  4228]]\n",
      "              precision    recall  f1-score   support\n",
      "\n",
      "           0       0.97      0.97      0.97     11848\n",
      "           1       0.92      0.96      0.94      3629\n",
      "           2       0.99      0.93      0.96      4523\n",
      "\n",
      "    accuracy                           0.96     20000\n",
      "   macro avg       0.96      0.96      0.96     20000\n",
      "weighted avg       0.96      0.96      0.96     20000\n",
      "\n"
     ]
    }
   ],
   "source": [
    "# normalized data kNN\n",
    "## train test split\n",
    "X = df_normalized.drop('Class',axis='columns')\n",
    "y = np.array(df_normalized['Class'])\n",
    "\n",
    "X_train, X_test, y_train, y_test = train_test_split(X,y,test_size=0.2, random_state = 42)\n",
    "\n",
    "#array dimensions\n",
    "y_train = y_train.transpose()\n",
    "y_test = y_test.transpose()\n",
    "\n",
    "#running knn on normalized data\n",
    "knn_model = KNeighborsClassifier(n_neighbors=11)\n",
    "knn_model.fit(X_train, y_train)\n",
    "\n",
    "y_pred = knn_model.predict_proba(X_test)\n",
    "y_pred = np.argmax(y_pred,axis=1)\n",
    "\n",
    "\n",
    "print(accuracy_score(y_test, y_pred))\n",
    "print(metrics.confusion_matrix(y_pred, y_test))\n",
    "print(classification_report(y_pred, y_test))"
   ]
  },
  {
   "cell_type": "code",
   "execution_count": 20,
   "id": "b62398f0",
   "metadata": {},
   "outputs": [
    {
     "name": "stdout",
     "output_type": "stream",
     "text": [
      "Fitting 3 folds for each of 24 candidates, totalling 72 fits\n",
      "{'metric': 'manhattan', 'n_neighbors': 5, 'weights': 'distance'}\n",
      "0.9619\n",
      "[[11501   301    48]\n",
      " [  148  3499     0]\n",
      " [  255    10  4238]]\n",
      "              precision    recall  f1-score   support\n",
      "\n",
      "           0       0.97      0.97      0.97     11850\n",
      "           1       0.92      0.96      0.94      3647\n",
      "           2       0.99      0.94      0.96      4503\n",
      "\n",
      "    accuracy                           0.96     20000\n",
      "   macro avg       0.96      0.96      0.96     20000\n",
      "weighted avg       0.96      0.96      0.96     20000\n",
      "\n"
     ]
    }
   ],
   "source": [
    "param_grid = {\n",
    "    'n_neighbors': [3, 5, 7, 9, 11, 13],             \n",
    "    'weights': ['uniform', 'distance'],      \n",
    "    'metric': ['euclidean', 'manhattan']\n",
    "}\n",
    "xgrid_search = GridSearchCV(knn_model, \n",
    "                           param_grid, \n",
    "                           cv=3, #cross validation\n",
    "                           verbose=1,           \n",
    "                           n_jobs=-1) \n",
    "\n",
    "grid_search.fit(X_train, y_train)\n",
    "print(grid_search.best_params_)\n",
    "\n",
    "#running knn with hyperparameter tuning\n",
    "knn_model = KNeighborsClassifier(n_neighbors=11)\n",
    "knn_model.fit(X_train, y_train)\n",
    "\n",
    "y_pred = grid_search.best_estimator_.predict(X_test)\n",
    "print(accuracy_score(y_test, y_pred))\n",
    "print(metrics.confusion_matrix(y_pred, y_test))\n",
    "print(classification_report(y_pred, y_test))"
   ]
  },
  {
   "cell_type": "code",
   "execution_count": 21,
   "id": "43bcfd12",
   "metadata": {},
   "outputs": [
    {
     "name": "stderr",
     "output_type": "stream",
     "text": [
      "<ipython-input-21-751e6ccb21a8>:7: SettingWithCopyWarning: \n",
      "A value is trying to be set on a copy of a slice from a DataFrame.\n",
      "Try using .loc[row_indexer,col_indexer] = value instead\n",
      "\n",
      "See the caveats in the documentation: https://pandas.pydata.org/pandas-docs/stable/user_guide/indexing.html#returning-a-view-versus-a-copy\n",
      "  train['Class'] = train['Class'].astype('category')\n",
      "<ipython-input-21-751e6ccb21a8>:9: SettingWithCopyWarning: \n",
      "A value is trying to be set on a copy of a slice from a DataFrame.\n",
      "Try using .loc[row_indexer,col_indexer] = value instead\n",
      "\n",
      "See the caveats in the documentation: https://pandas.pydata.org/pandas-docs/stable/user_guide/indexing.html#returning-a-view-versus-a-copy\n",
      "  train['Class_code'] = train['Class'].cat.codes\n"
     ]
    }
   ],
   "source": [
    "#creating a subset of the training data\n",
    "\n",
    "train, test = train_test_split(df_normalized,test_size=0.2, random_state = 42)\n",
    "\n",
    "#subset the dataframe\n",
    "train['Class'] = train['Class'].astype('category')\n",
    "\n",
    "train['Class_code'] = train['Class'].cat.codes\n",
    "sub1 = train[train['Class_code'] == train['Class'].cat.categories.get_loc(1)]\n",
    "\n",
    "#creating a subset of galaxies sub0\n",
    "n_sub1 = len(sub1)\n",
    "sub0_all = train[train['Class_code'] == train['Class'].cat.categories.get_loc(0)]\n",
    "sub0 = sub0_all.sample(n=n_sub1, random_state=42)  \n",
    "\n",
    "#creating a subset of stars sub2\n",
    "sub2_all = train[train['Class_code'] == train['Class'].cat.categories.get_loc(2)]\n",
    "sub2 = sub2_all.sample(n=n_sub1, random_state=42)  \n",
    "\n",
    "#merge the subsets\n",
    "sub=pd.concat([sub0, sub1, sub2], axis=0)\n",
    "\n",
    "sub_shuffle = sub.sample(frac=1, random_state=42).reset_index(drop=True)"
   ]
  },
  {
   "cell_type": "code",
   "execution_count": 22,
   "id": "f123d3eb",
   "metadata": {},
   "outputs": [
    {
     "name": "stdout",
     "output_type": "stream",
     "text": [
      "0.94945\n",
      "[[11174   229    32]\n",
      " [  291  3563     2]\n",
      " [  439    18  4252]]\n",
      "              precision    recall  f1-score   support\n",
      "\n",
      "           0       0.94      0.98      0.96     11435\n",
      "           1       0.94      0.92      0.93      3856\n",
      "           2       0.99      0.90      0.95      4709\n",
      "\n",
      "    accuracy                           0.95     20000\n",
      "   macro avg       0.96      0.93      0.94     20000\n",
      "weighted avg       0.95      0.95      0.95     20000\n",
      "\n"
     ]
    }
   ],
   "source": [
    "#running knn on normalized and subset data\n",
    "\n",
    "#train test split\n",
    "X_train = sub_shuffle.drop('Class',axis='columns')\n",
    "X_train = X_train.drop('Class_code',axis='columns')\n",
    "y_train = np.array(sub_shuffle['Class'])\n",
    "\n",
    "X_test = test.drop('Class',axis='columns')\n",
    "y_test = np.array(test['Class'])\n",
    "\n",
    "#array dimensions\n",
    "y_train = y_train.transpose()\n",
    "y_test = y_test.transpose()\n",
    "\n",
    "#running knn with normalized and subset data\n",
    "knn_model = KNeighborsClassifier(n_neighbors=11)\n",
    "knn_model.fit(X_train, y_train)\n",
    "\n",
    "y_pred = knn_model.predict_proba(X_test)\n",
    "y_pred = np.argmax(y_pred,axis=1)\n",
    "\n",
    "print(accuracy_score(y_test, y_pred))\n",
    "print(metrics.confusion_matrix(y_pred, y_test))\n",
    "print(classification_report(y_pred, y_test))"
   ]
  }
 ],
 "metadata": {
  "kernelspec": {
   "display_name": "Python 3",
   "language": "python",
   "name": "python3"
  },
  "language_info": {
   "codemirror_mode": {
    "name": "ipython",
    "version": 3
   },
   "file_extension": ".py",
   "mimetype": "text/x-python",
   "name": "python",
   "nbconvert_exporter": "python",
   "pygments_lexer": "ipython3",
   "version": "3.8.8"
  }
 },
 "nbformat": 4,
 "nbformat_minor": 5
}
